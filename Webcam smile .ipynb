{
 "cells": [
  {
   "cell_type": "code",
   "execution_count": 1,
   "metadata": {},
   "outputs": [],
   "source": [
    "import cv2\n",
    "import numpy as np\n",
    "import sys\n",
    "faceCascade = cv2.CascadeClassifier('haarcascade_frontalface_default.xml')\n",
    "smileCascade = cv2.CascadeClassifier('haarcascade_smile.xml')\n",
    "cap = cv2.VideoCapture(0)\n",
    "cap.set(3,640)\n",
    "cap.set(4,480)\n",
    "sF = 1.05\n",
    "while True:\n",
    "\n",
    "    ret, frame = cap.read() # Capture frame-by-frame\n",
    "    img = frame\n",
    "    gray = cv2.cvtColor(frame, cv2.COLOR_BGR2GRAY)\n",
    "\n",
    "\n",
    "    faces = faceCascade.detectMultiScale(\n",
    "        gray,\n",
    "        scaleFactor= sF,\n",
    "        minNeighbors=8,\n",
    "        minSize=(55, 55),\n",
    "        flags=cv2.CASCADE_SCALE_IMAGE\n",
    "    )\n",
    "    # ---- Draw a rectangle around the faces\n",
    "\n",
    "    for (x, y, w, h) in faces:\n",
    "        cv2.rectangle(frame, (x, y), (x+w, y+h), (0, 0, 255), 2)\n",
    "        roi_gray = gray[y:y+h, x:x+w]\n",
    "        roi_color = frame[y:y+h, x:x+w]\n",
    "\n",
    "        smile = smileCascade.detectMultiScale(\n",
    "            roi_gray,\n",
    "            scaleFactor= 1.7,\n",
    "            minNeighbors=22,\n",
    "            minSize=(25, 25),\n",
    "            flags=cv2.CASCADE_SCALE_IMAGE\n",
    "            )\n",
    "\n",
    "        # Set region of interest for smiles\n",
    "        for (x, y, w, h) in smile:\n",
    "            print (\"Found\", len(smile), \"smiles!\")\n",
    "            cv2.rectangle(roi_color, (x, y), (x+w, y+h), (255, 0, 0), 1)\n",
    "            #print \"!!!!!!!!!!!!!!!!!\"\n",
    "\n",
    "    #cv2.cv.Flip(frame, None, 1)\n",
    "    cv2.imshow('Smile Detector', frame)\n",
    "    c = cv2.waitKey(7) \n",
    "    if c == 27:\n",
    "        break\n",
    "cap.release()\n",
    "cv2.destroyAllWindows()\n",
    "\n"
   ]
  }
 ],
 "metadata": {
  "kernelspec": {
   "display_name": "Python 3",
   "language": "python",
   "name": "python3"
  },
  "language_info": {
   "codemirror_mode": {
    "name": "ipython",
    "version": 3
   },
   "file_extension": ".py",
   "mimetype": "text/x-python",
   "name": "python",
   "nbconvert_exporter": "python",
   "pygments_lexer": "ipython3",
   "version": "3.6.1"
  }
 },
 "nbformat": 4,
 "nbformat_minor": 2
}
